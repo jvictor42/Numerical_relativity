{
 "cells": [
  {
   "cell_type": "code",
   "execution_count": null,
   "metadata": {},
   "outputs": [],
   "source": [
    "\"\"\" Spherical wave evolution using the Galerkin-Collocation method \n",
    "    for the Minkowski spacetime.\n",
    "\n",
    "    By W. Barreto 21.01.20 \"\"\"\n",
    "%matplotlib notebook\n",
    "import numpy as np\n",
    "from scipy.special import chebyt, eval_chebyt, eval_gegenbauer\n",
    "import matplotlib.pyplot as plt\n",
    "import matplotlib.animation as animation\n"
   ]
  },
  {
   "cell_type": "code",
   "execution_count": null,
   "metadata": {},
   "outputs": [],
   "source": [
    "\"\"\" Basis \"\"\"\n",
    "\n",
    "\"\"\" The way to evaluate derivatives of Chebyshev was suggested by R. Aranha \"\"\"\n",
    "\n",
    "def T(n,x):\n",
    "    T=eval_chebyt(n,x)\n",
    "    return T\n",
    "\n",
    "def dT(n, x):\n",
    "    dT = n * eval_gegenbauer(n - 1, 1, x)\n",
    "    return dT\n",
    "\n",
    "def ddT(n, x):\n",
    "    ddT = 2 * n * eval_gegenbauer(n - 2, 2, x)\n",
    "    return ddT\n",
    "\n",
    "def TL(n,L0,r):\n",
    "    x=(r-L0)/(r+L0)  \n",
    "    TL=T(n,x)\n",
    "    return TL\n",
    "\n",
    "def dTL(n,L0,r):\n",
    "    x=(r-L0)/(r+L0)\n",
    "    dxdr=2.*L0/(r+L0)**2.\n",
    "    dTL=dxdr*dT(n,x)\n",
    "    return dTL\n",
    "\n",
    "def ddTL(n,L0,r):\n",
    "    x=(r-L0)/(r+L0)\n",
    "    dxdr=2.*L0/(r+L0)**2.\n",
    "    d2xdr2=-4.*L0/(r+L0)**3.\n",
    "    ddTL=ddT(n,x)*dxdr**2.+d2xdr2*dT(n,x)\n",
    "    return ddTL\n",
    "\n",
    "def psi(n,L0,r):\n",
    "    psi=0.5*(TL(n+1,L0,r)+TL(n,L0,r))\n",
    "    return psi\n",
    "\n",
    "def dpsi(n,L0,r):\n",
    "    dpsi=0.5*(dTL(n+1,L0,r)+dTL(n,L0,r))\n",
    "    return dpsi\n",
    "\n",
    "def ddpsi(n,L0,r):\n",
    "    ddpsi=0.5*(ddTL(n+1,L0,r)+ddTL(n,L0,r))\n",
    "    return ddpsi"
   ]
  },
  {
   "cell_type": "code",
   "execution_count": null,
   "metadata": {},
   "outputs": [],
   "source": [
    "\"\"\" Dynamical System \"\"\"\n",
    "def dynsys(x):\n",
    "    ddphi=0.5*np.dot(BDDPHI,x)\n",
    "    dx=np.dot(BDPHInv,ddphi)\n",
    "    return dx"
   ]
  },
  {
   "cell_type": "code",
   "execution_count": null,
   "metadata": {},
   "outputs": [],
   "source": [
    "\"\"\" Runge Kutta \"\"\"\n",
    "def rk4(x,dx):\n",
    "      delta=hs\n",
    "      hh=delta*.5\n",
    "      h6=delta/6.\n",
    "      xt=x+hh*dx\n",
    "      dxt=dynsys(xt)\n",
    "      xt=x+hh*dxt\n",
    "      dxm=dynsys(xt)\n",
    "      xt=x+delta*dxm\n",
    "      dxm=dxt+dxm\n",
    "      dxt=dynsys(xt) \n",
    "      xout=x+h6*(dx+dxt+2.*dxm)\n",
    "      return xout"
   ]
  },
  {
   "cell_type": "code",
   "execution_count": null,
   "metadata": {},
   "outputs": [],
   "source": [
    "\n",
    "\"\"\" Parameters \"\"\"\n",
    "p= 128              # Truncation\n",
    "L0=1.               # Mapping parameter\n",
    "\n",
    "A0=1.e-1            # Amplitude\n",
    "sigma=.1            # Width\n",
    "r_0=.5              # Peak\n",
    "\n",
    "rinf=1.e10          # Computational infinity\n",
    "\n",
    "hs=0.5e-3           # Time step\n",
    "timemax=2.e0        # Maximum time \n",
    "\n",
    "vp=1                # Visualization parameter: 0 fixed at r=0; 1 free at r=0\n",
    "\n",
    "pi=np.pi"
   ]
  },
  {
   "cell_type": "code",
   "execution_count": null,
   "metadata": {},
   "outputs": [],
   "source": [
    "\"\"\" Grid \"\"\"\n",
    "\n",
    "x=np.zeros(p+1)\n",
    "r=np.zeros(p+1)\n",
    "xx=np.zeros(p+1)\n",
    "for k in range(0,p+1):\n",
    "      x[k]=np.cos(pi*np.float(k+1)/np.float(p+2))\n",
    "      r[k]=L0*(1.+x[k])/(1.-x[k])\n",
    "      xx[p-k]=r[k]/(1.+r[k])"
   ]
  },
  {
   "cell_type": "code",
   "execution_count": null,
   "metadata": {},
   "outputs": [],
   "source": [
    "\"\"\" Frame \"\"\"\n",
    "\n",
    "M_PHI=np.zeros((p+1,p+1))\n",
    "BPHI=np.zeros((p+1,p+1))\n",
    "BDPHI=np.zeros((p+1,p+1))\n",
    "BDDPHI=np.zeros((p+1,p+1))\n",
    "PHI0=np.zeros(p+1)\n",
    "\n",
    "for n in range(0,p+1):\n",
    "    for k in range(0,p+1):\n",
    "        BPHI[k][n]=psi(n,L0,r[k])\n",
    "\n",
    "for n in range(0,p+1):\n",
    "    for k in range(0,p+1):\n",
    "       BDPHI[k][n]=dpsi(n,L0,r[k]) \n",
    "\n",
    "\"\"\" Inversion saving\"\"\"\n",
    "M_PHI=BDPHI\n",
    "BDPHInv=np.linalg.inv(M_PHI)\n",
    "\n",
    "for n in range(0,p+1):\n",
    "    for k in range(0,p+1):\n",
    "       BDDPHI[k][n]=ddpsi(n,L0,r[k])"
   ]
  },
  {
   "cell_type": "code",
   "execution_count": null,
   "metadata": {},
   "outputs": [],
   "source": [
    "\"\"\" Initial data \"\"\"\n",
    "for i in range(0,p+1):\n",
    "    PHI0[i]=A0*np.exp(-(r[i]-r_0)**2./sigma**2.)\n",
    "\n",
    "RHS=PHI0\n",
    "LHS=BPHI\n",
    "a=np.linalg.solve(LHS,RHS)\n",
    "\n",
    "PHI_c=np.dot(BPHI,a)"
   ]
  },
  {
   "cell_type": "code",
   "execution_count": null,
   "metadata": {},
   "outputs": [],
   "source": [
    "itimemax=int(timemax/hs)\n",
    "g=np.zeros((itimemax+1,p+1))\n",
    "\n",
    "for itime in range (0,itimemax+1):\n",
    "    time=np.float(itime)*hs\n",
    "    for i in range(vp,p+1): \n",
    "        g[itime][i-vp]=PHI_c[p-i]/(1. + vp*(r[p-i]-1.))\n",
    "\n",
    "    da=dynsys(a)\n",
    "    a=rk4(a,da)\n",
    "    PHI_c=np.dot(BPHI,a)"
   ]
  },
  {
   "cell_type": "code",
   "execution_count": null,
   "metadata": {},
   "outputs": [],
   "source": [
    "\"\"\" Visualization \"\"\"\n",
    "\n",
    "\"\"\" Standard Plotting \"\"\"\n",
    "for i in range(0,itimemax,100):\n",
    "    plt.plot(xx[:],g[i][:])\n",
    "plt.show()"
   ]
  },
  {
   "cell_type": "code",
   "execution_count": null,
   "metadata": {},
   "outputs": [],
   "source": [
    "\"\"\" Animation \"\"\"\n",
    "#x_axis = list(range(p))\n",
    "max_idx = len(g)\n",
    "plt.style.use('seaborn-pastel')\n",
    "fig=plt.figure()\n",
    "ax=plt.axes(xlim=(0,1),ylim=(-1.,1.))\n",
    "plt.grid()\n",
    "line, = ax.plot([],[], lw=3)\n",
    "\n",
    "def init():\n",
    "    line.set_data([],[])\n",
    "    return line,\n",
    "\n",
    "def animate(i):\n",
    "   x_axis=xx[:]\n",
    "   y_axis=g[i][:]\n",
    "   line.set_data(x_axis,y_axis)\n",
    "   return line,\n",
    "\n",
    "anim = animation.FuncAnimation(fig,animate, init_func=init,frames=max_idx,interval=1,blit=True)"
   ]
  },
  {
   "cell_type": "code",
   "execution_count": null,
   "metadata": {},
   "outputs": [],
   "source": []
  }
 ],
 "metadata": {
  "kernelspec": {
   "display_name": "Python 3",
   "language": "python",
   "name": "python3"
  },
  "language_info": {
   "codemirror_mode": {
    "name": "ipython",
    "version": 3
   },
   "file_extension": ".py",
   "mimetype": "text/x-python",
   "name": "python",
   "nbconvert_exporter": "python",
   "pygments_lexer": "ipython3",
   "version": "3.7.3"
  }
 },
 "nbformat": 4,
 "nbformat_minor": 2
}
