{
 "cells": [
  {
   "cell_type": "code",
   "execution_count": null,
   "metadata": {},
   "outputs": [],
   "source": [
    "%matplotlib notebook\n",
    "import numpy as np\n",
    "import matplotlib.pyplot as plt\n",
    "import matplotlib.animation as animation"
   ]
  },
  {
   "cell_type": "code",
   "execution_count": null,
   "metadata": {},
   "outputs": [],
   "source": [
    "# Parameters\n",
    "\n",
    "#h=1.e-3\n",
    "umax=2.\n",
    "\n",
    "A0=1.e-1\n",
    "sigma=0.1\n",
    "r0=.5\n",
    "\n",
    "nx=128\n",
    "dx=1./np.float128(nx)\n",
    "CFL=0.5\n",
    "h=CFL*dx\n",
    "iumax=int(umax/h)\n",
    "dt=h\n",
    "\n",
    "dis=.1\n"
   ]
  },
  {
   "cell_type": "code",
   "execution_count": null,
   "metadata": {},
   "outputs": [],
   "source": [
    "x=np.zeros(nx)\n",
    "xh=np.zeros(nx)\n",
    "r=np.zeros(nx)\n",
    "g=np.zeros((iumax+1,nx))\n",
    "gold=np.zeros(nx)\n",
    "gnew=np.zeros(nx)\n",
    "gdis=np.zeros(nx)"
   ]
  },
  {
   "cell_type": "code",
   "execution_count": null,
   "metadata": {},
   "outputs": [],
   "source": [
    "#print(np.shape(gold),np.shape(gnew))\n",
    "for i in range(nx-1):\n",
    "    x[i] = np.float128(i)*dx\n",
    "    xh[i]= (np.float128(i)-0.5)*dx\n",
    "    r[i] = x[i]/(1.-x[i])\n",
    "\n",
    "x[nx-1]=1.\n",
    "xh[nx-1]=1.-0.5*dx\n",
    "r[nx-1]=r[nx-2]"
   ]
  },
  {
   "cell_type": "code",
   "execution_count": null,
   "metadata": {},
   "outputs": [],
   "source": [
    "gold=A0*np.exp(-(r-r0)**2./sigma**2.)"
   ]
  },
  {
   "cell_type": "code",
   "execution_count": null,
   "metadata": {},
   "outputs": [],
   "source": [
    "for iu in range(iumax):\n",
    "    u=np.float(iu)*dt\n",
    "#    g[iu][:]=(A0*np.exp(-(r+u/2.-r0)**2./sigma**2.)-A0*np.exp(-(u/2.-r0)**2./sigma**2.))/r\n",
    "#    print(u,gold[nx-1])\n",
    "    for i in range(1,nx): \n",
    "        g[iu][i-1]=gold[i]/r[i]\n",
    "#        phi[i]=gold[i]/r[i]\n",
    "    \n",
    "    \"\"\" Start (as in gstart for kink Pitt code)\"\"\"\n",
    "    i=1\n",
    "    dxdrim = (1. - x[i-1]) ** 2\n",
    "    dxdri  = (1. - x[i])   ** 2\n",
    "    delim  = 0.5 * dt * dxdrim\n",
    "    deli   = 0.5 * dt * dxdri\n",
    "\n",
    "    gp = gnew[i-1]\n",
    "\n",
    "    gr = gold[i-1] + (gold[i]   - gold[i-1]) * delim * np.float128(nx)\n",
    "    gs = gold[i]   + (gold[i+1] - gold[i])   * deli  * np.float128(nx)\n",
    "\n",
    "    gnew[i] = gp + gs - gr\n",
    "#    With the following start if the field is free it gets noise\n",
    "#    gnew[i]=gold[i+1]\n",
    "\n",
    "    for i in range(2,nx-1):\n",
    "         #print(i)\n",
    "         dxdrim = (1. - x[i-1]) ** 2\n",
    "         dxdri  = (1. - x[i])   ** 2\n",
    "         delim  = 0.5 * dt * dxdrim\n",
    "         deli   = 0.5 * dt * dxdri\n",
    "         gp = gnew[i-1]    - (gnew[i-1]    - gnew[i-2])    * 0.5 * delim * np.float128(nx)\n",
    "         gr = gold[i-1] + (gold[i]   - gold[i-1]) * 0.5 * delim * np.float128(nx)\n",
    "         gs = gold[i]   + (gold[i+1] - gold[i])   * 0.5 * deli  * np.float128(nx)\n",
    "         gnew[i] = (- gnew[i-1] * (0.5 * deli * np.float128(nx)) \\\n",
    "                   + gp + gs - gr )                 \\\n",
    "                   / (1. - (0.5 * deli * np.float128(nx)))\n",
    "    i=nx-1\n",
    "    dxdrim = (1. - x[i-1]) ** 2\n",
    "    delim  = 0.5 * dt * dxdrim\n",
    "\n",
    "    gp = gnew[i-1]    - (gnew[i-1]  - gnew[i-2])    * 0.5 * delim * np.float128(nx)\n",
    "    gr = gold[i-1] + (gold[i] - gold[i-1]) * 0.5 * delim * np.float128(nx)\n",
    "    gs = gold[nx-1]\n",
    "\n",
    "    gnew[i] = gp + gs - gr\n",
    "\n",
    "    gold[:]=gnew[:]"
   ]
  },
  {
   "cell_type": "code",
   "execution_count": null,
   "metadata": {},
   "outputs": [],
   "source": [
    "for i in range(0,iumax,10): \n",
    "    plt.plot(x[:],g[i][:])\n",
    "plt.show()"
   ]
  },
  {
   "cell_type": "code",
   "execution_count": null,
   "metadata": {},
   "outputs": [],
   "source": [
    "max_idx = len(g)\n",
    "plt.style.use('seaborn-pastel')\n",
    "fig=plt.figure()\n",
    "ax=plt.axes(xlim=(0.,1.),ylim=(-1.,1.))\n",
    "plt.grid()\n",
    "line, = ax.plot([],[], lw=3)\n",
    "\n",
    "def init():\n",
    "    line.set_data([],[])\n",
    "    return line,\n",
    "\n",
    "def animate(i):\n",
    "   x_axis=x[:]\n",
    "   y_axis=g[i][:]\n",
    "   line.set_data(x_axis,y_axis)\n",
    "   return line,\n",
    "\n",
    "anim = animation.FuncAnimation(fig,animate, init_func=init,frames=max_idx,interval=1,blit=True)"
   ]
  },
  {
   "cell_type": "code",
   "execution_count": null,
   "metadata": {},
   "outputs": [],
   "source": []
  }
 ],
 "metadata": {
  "kernelspec": {
   "display_name": "Python 3",
   "language": "python",
   "name": "python3"
  },
  "language_info": {
   "codemirror_mode": {
    "name": "ipython",
    "version": 3
   },
   "file_extension": ".py",
   "mimetype": "text/x-python",
   "name": "python",
   "nbconvert_exporter": "python",
   "pygments_lexer": "ipython3",
   "version": "3.7.3"
  }
 },
 "nbformat": 4,
 "nbformat_minor": 2
}
