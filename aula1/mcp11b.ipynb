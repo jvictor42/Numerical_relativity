{
 "cells": [
  {
   "cell_type": "code",
   "execution_count": null,
   "metadata": {},
   "outputs": [],
   "source": [
    "%%javascript\n",
    "MathJax.Hub.Config({\n",
    "    TeX: { equationNumbers: { autoNumber: \"AMS\" } }\n",
    "});"
   ]
  },
  {
   "cell_type": "markdown",
   "metadata": {},
   "source": [
    "# Conservação da energia\n",
    "\\begin{equation}\n",
    "        E=2\\pi\\int^\\infty_0 r^2 \\Phi_{,r}^2dr, \\label{Energy}\n",
    "\\end{equation}\n",
    "\\begin{equation}\n",
    "        \\frac{dE}{du}=-4\\pi N^2\\equiv P,\n",
    "\\end{equation}\n",
    "onde\n",
    "\\begin{equation}\n",
    "        N=-\\frac{1}{2}\\Phi(u,0),\n",
    "\\end{equation}\n",
    "Perto do $\\mathcal{I}^+$ o campo escalar tem um comportamento\n",
    "\\begin{equation}\n",
    "        \\Phi=\\frac{Q(u)}{r}.\n",
    "\\end{equation}\n",
    "Pode se mostrar que\n",
    "\\begin{equation}\n",
    "        N=\\frac{dQ}{du}.\n",
    "\\end{equation}\n",
    "A integral (\\ref{Energy}) pode ser calculada usando diferenças finitas\n",
    "ou uma quadratura de Gauss-Legendre.\n",
    "Vamos mostrar numericamente que a quantidade\n",
    "\\begin{equation}\n",
    "        E(u)-\\int^u_0 P(u')du'=E(0),\n",
    "\\end{equation}\n"
   ]
  },
  {
   "cell_type": "code",
   "execution_count": null,
   "metadata": {},
   "outputs": [],
   "source": [
    "%matplotlib notebook\n",
    "import numpy as np\n",
    "import matplotlib.pyplot as plt\n",
    "import matplotlib.animation as animation"
   ]
  },
  {
   "cell_type": "code",
   "execution_count": null,
   "metadata": {},
   "outputs": [],
   "source": [
    "h=1.e-3\n",
    "umax=2.\n",
    "\n",
    "A0=1.e-1\n",
    "sigma=0.1\n",
    "r0=.5\n",
    "\n",
    "nxmax=2001\n",
    "iumax=int(umax/h)\n",
    "\n",
    "C=np.zeros(int((nxmax-1)/100))\n",
    "xn=np.zeros(int((nxmax-1)/100))"
   ]
  },
  {
   "cell_type": "code",
   "execution_count": null,
   "metadata": {},
   "outputs": [],
   "source": [
    "print('São ',int((nxmax-1)/100), ' iterações...')\n",
    "nix=0\n",
    "for inx in range(100,nxmax,100):\n",
    "    nx=inx+1\n",
    "    dx=1./np.float(nx)\n",
    "\n",
    "    x=np.zeros(nx)\n",
    "    xh=np.zeros(nx)\n",
    "    r=np.zeros(nx)\n",
    "    g=np.zeros((iumax+1,nx))\n",
    "    Phi=np.zeros((iumax+1,nx))\n",
    "    time=np.zeros(iumax)\n",
    "    p=np.zeros(iumax+1)\n",
    "    E=np.zeros(iumax)\n",
    "    Flux=np.zeros(iumax)\n",
    "\n",
    "    for i in range(nx-1):\n",
    "        x[i] = np.float(i+1)*dx\n",
    "        xh[i]= (np.float(i+1)-0.5)*dx\n",
    "        r[i] = x[i]/(1.-x[i])\n",
    "\n",
    "    x[nx-1]=1.\n",
    "    xh[nx-1]=1.-0.5*dx\n",
    "    r[nx-1]=r[nx-2]\n",
    "    \n",
    "    p[0]=0.\n",
    "    massrad=0.\n",
    "\n",
    "    for iu in range(iumax):\n",
    "        u=np.float(iu)*h\n",
    "        time[iu]=u\n",
    "        g[iu][:]=(A0*np.exp(-(r+u/2.-r0)**2./sigma**2.)-A0*np.exp(-(u/2.-r0)**2./sigma**2.))\n",
    "        Phi[iu][:]=g[iu][:]/r\n",
    "        News=A0*(u/2.-r0)*np.exp(-(u/2.-r0)**2./sigma**2.)/sigma**2.\n",
    "        mass=0.\n",
    "        news=0.\n",
    "        for i in range(1,nx):\n",
    "            phixh=(g[iu][i]-g[iu][i-1])/dx\n",
    "            phih=0.5*(g[iu][i]+g[iu][i-1])\n",
    "            bracket=phixh*(1.-xh[i])-phih/xh[i]\n",
    "            mass=mass+2.*np.pi*bracket*bracket*dx\n",
    "            news=news+0.5*bracket*dx/xh[i]\n",
    "        p[iu]=-4.*np.pi*News**2.\n",
    "        massrad=massrad+0.5*h*(p[iu]+p[iu-1])\n",
    "        E[iu]=mass\n",
    "        Flux[iu]=-massrad\n",
    "    print(nix,'. ',end = '')\n",
    "    C[nix]=Flux[iumax-1]-(E[int(iumax/2)]+Flux[int(iumax/2)])\n",
    "    xn[nix]=dx\n",
    "    nix=nix+1\n",
    "print(' Pronto!')"
   ]
  },
  {
   "cell_type": "code",
   "execution_count": null,
   "metadata": {},
   "outputs": [],
   "source": [
    "plt.close()\n",
    "plt.clf()\n",
    "plt.plot(time,E)\n",
    "plt.plot(time,Flux)\n",
    "plt.plot(time,E+Flux)\n",
    "plt.show()"
   ]
  },
  {
   "cell_type": "code",
   "execution_count": null,
   "metadata": {},
   "outputs": [],
   "source": [
    "plt.close()\n",
    "plt.clf()\n",
    "plt.plot(np.log10(xn),np.log10(C),'o-')\n",
    "plt.show()"
   ]
  },
  {
   "cell_type": "code",
   "execution_count": null,
   "metadata": {},
   "outputs": [],
   "source": []
  }
 ],
 "metadata": {
  "kernelspec": {
   "display_name": "Python 3",
   "language": "python",
   "name": "python3"
  },
  "language_info": {
   "codemirror_mode": {
    "name": "ipython",
    "version": 3
   },
   "file_extension": ".py",
   "mimetype": "text/x-python",
   "name": "python",
   "nbconvert_exporter": "python",
   "pygments_lexer": "ipython3",
   "version": "3.7.3"
  }
 },
 "nbformat": 4,
 "nbformat_minor": 2
}
