{
 "cells": [
  {
   "cell_type": "code",
   "execution_count": null,
   "metadata": {},
   "outputs": [],
   "source": [
    "%matplotlib notebook\n",
    "import numpy as np\n",
    "import matplotlib.pyplot as plt\n",
    "import matplotlib.animation as animation"
   ]
  },
  {
   "cell_type": "code",
   "execution_count": null,
   "metadata": {},
   "outputs": [],
   "source": [
    "h=1.e-3\n",
    "umax=2.\n",
    "\n",
    "A0=1.e-1\n",
    "sigma=0.1\n",
    "r0=.5\n",
    "\n",
    "nxmax=171\n",
    "iumax=int(umax/h)\n",
    "\n",
    "C=np.zeros(16)\n",
    "xn=np.zeros(16)\n",
    "nix=0"
   ]
  },
  {
   "cell_type": "code",
   "execution_count": null,
   "metadata": {},
   "outputs": [],
   "source": [
    "for inx in range(20,nxmax,10):\n",
    "    nx=inx+1\n",
    "    x,y=np.polynomial.legendre.leggauss(nx)\n",
    "\n",
    "    r=np.zeros(nx)\n",
    "    g=np.zeros((iumax+1,nx))\n",
    "    Phi=np.zeros((iumax+1,nx))\n",
    "    time=np.zeros(iumax)\n",
    "    p=np.zeros(iumax+1)\n",
    "    E=np.zeros(iumax)\n",
    "    Flux=np.zeros(iumax)\n",
    "\n",
    "    for i in range(nx):\n",
    "        r[i]=(1.+x[i])/(1.-x[i])\n",
    "\n",
    "    p[0]=0.\n",
    "    massrad=0.\n",
    "\n",
    "    for iu in range(iumax):\n",
    "        u=np.float(iu)*h\n",
    "        time[iu]=u\n",
    "        g[iu][:]=(A0*np.exp(-(r+u/2.-r0)**2./sigma**2.)-A0*np.exp(-(u/2.-r0)**2./sigma**2.))\n",
    "        Phi[iu][:]=g[iu][:]/r\n",
    "        News=A0*(u/2.-r0)*np.exp(-(u/2.-r0)**2./sigma**2.)/sigma**2.\n",
    "        mass=0.\n",
    "        news=0.\n",
    "        for i in range(nx):\n",
    "            bracket=2.*(r[i]+u/2.-r0)*A0*np.exp(-(r[i]+u/2.-r0)**2./sigma**2.)/sigma**2. + g[iu][i]/r[i]\n",
    "            mass=mass+2.*bracket*bracket*y[i]/(1.-x[i])**2.\n",
    "        p[iu]=-4.*np.pi*News**2.\n",
    "        massrad=massrad+0.5*h*(p[iu]+p[iu-1])\n",
    "        E[iu]=2.*np.pi*mass\n",
    "        Flux[iu]=-massrad\n",
    "    #print(Flux[iumax-1]-E[0],nx)\n",
    "    C[nix]=Flux[iumax-1]-E[0]\n",
    "    xn[nix]=nx\n",
    "    nix=nix+1\n",
    "    \n",
    "   # print(Flux[iumax-1]-(E[int(iumax/2)]+Flux[int(iumax/2)]),nx)\n"
   ]
  },
  {
   "cell_type": "code",
   "execution_count": null,
   "metadata": {},
   "outputs": [],
   "source": [
    "plt.close()\n",
    "plt.clf()\n",
    "plt.plot(xn,np.log10(np.abs(C)),'o-')\n",
    "plt.show()"
   ]
  },
  {
   "cell_type": "code",
   "execution_count": null,
   "metadata": {},
   "outputs": [],
   "source": []
  },
  {
   "cell_type": "code",
   "execution_count": null,
   "metadata": {},
   "outputs": [],
   "source": [
    "plt.close()\n",
    "plt.clf()\n",
    "plt.plot(time,E)\n",
    "plt.plot(time,Flux)\n",
    "plt.plot(time,E+Flux)\n",
    "plt.show()"
   ]
  },
  {
   "cell_type": "code",
   "execution_count": null,
   "metadata": {},
   "outputs": [],
   "source": []
  },
  {
   "cell_type": "code",
   "execution_count": null,
   "metadata": {},
   "outputs": [],
   "source": []
  }
 ],
 "metadata": {
  "kernelspec": {
   "display_name": "Python 3",
   "language": "python",
   "name": "python3"
  },
  "language_info": {
   "codemirror_mode": {
    "name": "ipython",
    "version": 3
   },
   "file_extension": ".py",
   "mimetype": "text/x-python",
   "name": "python",
   "nbconvert_exporter": "python",
   "pygments_lexer": "ipython3",
   "version": "3.7.3"
  }
 },
 "nbformat": 4,
 "nbformat_minor": 2
}
